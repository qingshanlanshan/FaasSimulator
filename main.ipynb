{
 "cells": [
  {
   "cell_type": "code",
   "execution_count": 1,
   "metadata": {},
   "outputs": [],
   "source": [
    "from Include import *\n",
    "from Simulator import *\n",
    "from TraceGen import *"
   ]
  },
  {
   "cell_type": "code",
   "execution_count": 2,
   "metadata": {},
   "outputs": [
    {
     "name": "stdout",
     "output_type": "stream",
     "text": [
      "Data loaded successfully\n"
     ]
    }
   ],
   "source": [
    "functionMap, invocationMap = load_data(\"/Users/jiaruiye/Code/Serverless/dataset\")"
   ]
  },
  {
   "cell_type": "code",
   "execution_count": 19,
   "metadata": {},
   "outputs": [
    {
     "name": "stderr",
     "output_type": "stream",
     "text": [
      "  0%|          | 100/44771 [00:00<00:02, 15656.81it/s]"
     ]
    },
    {
     "name": "stdout",
     "output_type": "stream",
     "text": [
      "800\n"
     ]
    },
    {
     "name": "stderr",
     "output_type": "stream",
     "text": [
      "\n"
     ]
    }
   ],
   "source": [
    "# 10 GB memory budget, 60 min time limit\n",
    "simulator = Simulator(300, functionMap, invocationMap, \"FIFO\", timeLimit=2, functionLimit=100)\n",
    "print(simulator.eventQueue.qsize())"
   ]
  },
  {
   "cell_type": "code",
   "execution_count": 20,
   "metadata": {},
   "outputs": [
    {
     "name": "stderr",
     "output_type": "stream",
     "text": [
      "100%|██████████| 800/800 [00:00<00:00, 66694.03it/s]"
     ]
    },
    {
     "name": "stdout",
     "output_type": "stream",
     "text": [
      "Simulation done\n"
     ]
    },
    {
     "name": "stderr",
     "output_type": "stream",
     "text": [
      "\n"
     ]
    }
   ],
   "source": [
    "simulator.run()\n",
    "print(\"Simulation done\")"
   ]
  },
  {
   "cell_type": "code",
   "execution_count": 22,
   "metadata": {},
   "outputs": [
    {
     "name": "stdout",
     "output_type": "stream",
     "text": [
      "time, coldStartTime, memorySize, excutingTime\n",
      "1 125667.0 287.0380286380286 159784.0\n"
     ]
    }
   ],
   "source": [
    "# print stats\n",
    "print(\"time, coldStartTime, memorySize, excutingTime\")\n",
    "for stat in simulator.stats:\n",
    "    print(stat.time, stat.coldStartTime, stat.memorySize, stat.excutingTime)\n",
    "csv_file = open(\"log.csv\", \"w\")\n",
    "csv_writer = csv.writer(csv_file)\n",
    "csv_writer.writerow([\"time\", \"coldStartTime\", \"memorySize\", \"excutingTime\"])\n",
    "for stat in simulator.stats:\n",
    "    csv_writer.writerow([stat.time, stat.coldStartTime, stat.memorySize, stat.excutingTime])"
   ]
  }
 ],
 "metadata": {
  "kernelspec": {
   "display_name": "base",
   "language": "python",
   "name": "python3"
  },
  "language_info": {
   "codemirror_mode": {
    "name": "ipython",
    "version": 3
   },
   "file_extension": ".py",
   "mimetype": "text/x-python",
   "name": "python",
   "nbconvert_exporter": "python",
   "pygments_lexer": "ipython3",
   "version": "3.9.13"
  }
 },
 "nbformat": 4,
 "nbformat_minor": 2
}
