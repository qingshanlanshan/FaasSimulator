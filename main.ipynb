{
 "cells": [
  {
   "cell_type": "code",
   "execution_count": 1,
   "metadata": {},
   "outputs": [],
   "source": [
    "from Include import *\n",
    "from Simulator import *\n",
    "from TraceGen import *"
   ]
  },
  {
   "cell_type": "code",
   "execution_count": 2,
   "metadata": {},
   "outputs": [
    {
     "name": "stdout",
     "output_type": "stream",
     "text": [
      "Data loaded successfully\n"
     ]
    }
   ],
   "source": [
    "functionMap, invocationMap = load_data(\"/Users/jiaruiye/Code/Serverless/dataset\")\n",
    "policies=[\"LRU\",\"LFU\",\"GD\",\"FREQ\",\"SIZE\",\"RAND\"]"
   ]
  },
  {
   "cell_type": "code",
   "execution_count": 3,
   "metadata": {},
   "outputs": [
    {
     "name": "stdout",
     "output_type": "stream",
     "text": [
      "Policy:  LRU\n"
     ]
    },
    {
     "name": "stderr",
     "output_type": "stream",
     "text": [
      "  2%|▏         | 1000/44771 [00:00<00:03, 12920.22it/s]\n",
      "100%|██████████| 33739/33739 [00:00<00:00, 143212.99it/s]\n"
     ]
    },
    {
     "name": "stdout",
     "output_type": "stream",
     "text": [
      "Policy:  LFU\n"
     ]
    },
    {
     "name": "stderr",
     "output_type": "stream",
     "text": [
      "  2%|▏         | 1000/44771 [00:00<00:03, 11769.26it/s]\n",
      "100%|██████████| 33739/33739 [00:00<00:00, 153840.73it/s]\n"
     ]
    },
    {
     "name": "stdout",
     "output_type": "stream",
     "text": [
      "Policy:  GD\n"
     ]
    },
    {
     "name": "stderr",
     "output_type": "stream",
     "text": [
      "  2%|▏         | 1000/44771 [00:00<00:02, 16322.73it/s]\n",
      "100%|██████████| 33739/33739 [00:00<00:00, 134474.44it/s]\n"
     ]
    },
    {
     "name": "stdout",
     "output_type": "stream",
     "text": [
      "Policy:  FREQ\n"
     ]
    },
    {
     "name": "stderr",
     "output_type": "stream",
     "text": [
      "  2%|▏         | 1000/44771 [00:00<00:02, 16524.33it/s]\n",
      "100%|██████████| 33739/33739 [00:00<00:00, 143343.84it/s]\n"
     ]
    },
    {
     "name": "stdout",
     "output_type": "stream",
     "text": [
      "Policy:  SIZE\n"
     ]
    },
    {
     "name": "stderr",
     "output_type": "stream",
     "text": [
      "  2%|▏         | 1000/44771 [00:00<00:02, 16768.97it/s]\n",
      "100%|██████████| 33739/33739 [00:00<00:00, 140781.53it/s]\n"
     ]
    },
    {
     "name": "stdout",
     "output_type": "stream",
     "text": [
      "Policy:  RAND\n"
     ]
    },
    {
     "name": "stderr",
     "output_type": "stream",
     "text": [
      "  2%|▏         | 1000/44771 [00:00<00:03, 11741.75it/s]\n",
      "100%|██████████| 33739/33739 [00:00<00:00, 104488.36it/s]\n"
     ]
    }
   ],
   "source": [
    "for policy in policies:\n",
    "    print(\"Policy: \", policy)\n",
    "    simulator = Simulator(300, functionMap, invocationMap, policies[0], timeLimit=10, functionLimit=1000)\n",
    "    simulator.setPolicy(policy)\n",
    "    simulator.run()\n",
    "    simulator.dumpStats(\"./log\")"
   ]
  }
 ],
 "metadata": {
  "kernelspec": {
   "display_name": "base",
   "language": "python",
   "name": "python3"
  },
  "language_info": {
   "codemirror_mode": {
    "name": "ipython",
    "version": 3
   },
   "file_extension": ".py",
   "mimetype": "text/x-python",
   "name": "python",
   "nbconvert_exporter": "python",
   "pygments_lexer": "ipython3",
   "version": "3.9.13"
  }
 },
 "nbformat": 4,
 "nbformat_minor": 2
}
